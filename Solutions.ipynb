{
 "cells": [
  {
   "cell_type": "code",
   "execution_count": null,
   "id": "fe10be0f",
   "metadata": {},
   "outputs": [],
   "source": [
    "Imprime en consola Hello World."
   ]
  },
  {
   "cell_type": "code",
   "execution_count": 2,
   "id": "01e345fa",
   "metadata": {},
   "outputs": [
    {
     "name": "stdout",
     "output_type": "stream",
     "text": [
      "Hello World\n"
     ]
    }
   ],
   "source": [
    "print ('Hello World')"
   ]
  },
  {
   "cell_type": "code",
   "execution_count": null,
   "id": "9e395671",
   "metadata": {},
   "outputs": [],
   "source": [
    "Crea un directorio nuevo llamado new_dir."
   ]
  },
  {
   "cell_type": "code",
   "execution_count": 3,
   "id": "9474f85c",
   "metadata": {},
   "outputs": [],
   "source": [
    "mkdir new_dir"
   ]
  },
  {
   "cell_type": "code",
   "execution_count": null,
   "id": "1a771b9e",
   "metadata": {},
   "outputs": [],
   "source": [
    "Elimina ese directorio"
   ]
  },
  {
   "cell_type": "code",
   "execution_count": 4,
   "id": "9c9e195b",
   "metadata": {},
   "outputs": [],
   "source": [
    "rm -r new_dir"
   ]
  },
  {
   "cell_type": "code",
   "execution_count": null,
   "id": "858c046f",
   "metadata": {},
   "outputs": [],
   "source": [
    "Copia el archivo sed.txt dentro de la carpeta lorem a la carpeta lorem-copy. TIP: Puede ser necesario crear la carpeta lorem-copy primero."
   ]
  },
  {
   "cell_type": "code",
   "execution_count": 5,
   "id": "d5812fb9",
   "metadata": {},
   "outputs": [
    {
     "name": "stdout",
     "output_type": "stream",
     "text": [
      "cp: sed.txt: No such file or directory\r\n"
     ]
    }
   ],
   "source": [
    "cp sed.txt ../lorem-copy"
   ]
  },
  {
   "cell_type": "code",
   "execution_count": null,
   "id": "c8d4accb",
   "metadata": {},
   "outputs": [],
   "source": [
    "Muestra el contenido del archivo sed.txt dentro de la carpeta lorem."
   ]
  },
  {
   "cell_type": "code",
   "execution_count": 6,
   "id": "39d40c7a",
   "metadata": {},
   "outputs": [
    {
     "name": "stdout",
     "output_type": "stream",
     "text": [
      "cat: sed.txt: No such file or directory\r\n"
     ]
    }
   ],
   "source": [
    "cat sed.txt"
   ]
  },
  {
   "cell_type": "code",
   "execution_count": null,
   "id": "39322026",
   "metadata": {},
   "outputs": [],
   "source": [
    "Muestra el contenido de los archivos at.txt y lorem.txt dentro de la carpeta lorem."
   ]
  },
  {
   "cell_type": "code",
   "execution_count": 7,
   "id": "51068110",
   "metadata": {},
   "outputs": [
    {
     "name": "stdout",
     "output_type": "stream",
     "text": [
      "cat: at.txt: No such file or directory\r\n",
      "cat: lorem.txt: No such file or directory\r\n"
     ]
    }
   ],
   "source": [
    "cat at.txt lorem.txt"
   ]
  },
  {
   "cell_type": "code",
   "execution_count": null,
   "id": "bf979cd6",
   "metadata": {},
   "outputs": [],
   "source": [
    "Visualiza las primeras 3 líneas del archivo sed.txt dentro de la carpeta lorem-copy"
   ]
  },
  {
   "cell_type": "code",
   "execution_count": 9,
   "id": "82e8d8a6",
   "metadata": {},
   "outputs": [
    {
     "name": "stderr",
     "output_type": "stream",
     "text": [
      "<>:1: SyntaxWarning: 'int' object is not callable; perhaps you missed a comma?\n",
      "<>:1: SyntaxWarning: 'int' object is not callable; perhaps you missed a comma?\n",
      "/var/folders/vn/1ygqwhmn09lc7b6n123m0p740000gn/T/ipykernel_24856/3720956978.py:1: SyntaxWarning: 'int' object is not callable; perhaps you missed a comma?\n",
      "  head -3 (sed.txt)\n"
     ]
    },
    {
     "ename": "NameError",
     "evalue": "name 'head' is not defined",
     "output_type": "error",
     "traceback": [
      "\u001b[0;31m---------------------------------------------------------------------------\u001b[0m",
      "\u001b[0;31mNameError\u001b[0m                                 Traceback (most recent call last)",
      "Cell \u001b[0;32mIn[9], line 1\u001b[0m\n\u001b[0;32m----> 1\u001b[0m \u001b[43mhead\u001b[49m \u001b[38;5;241m-\u001b[39m\u001b[38;5;241m3\u001b[39m (sed\u001b[38;5;241m.\u001b[39mtxt)\n",
      "\u001b[0;31mNameError\u001b[0m: name 'head' is not defined"
     ]
    }
   ],
   "source": [
    "head -3 (sed.txt)"
   ]
  },
  {
   "cell_type": "code",
   "execution_count": null,
   "id": "b501e406",
   "metadata": {},
   "outputs": [],
   "source": [
    "Añade Homo homini lupus. al final de archivo sed.txt dentro de la carpeta lorem-copy"
   ]
  },
  {
   "cell_type": "code",
   "execution_count": 10,
   "id": "4cc772d0",
   "metadata": {},
   "outputs": [
    {
     "ename": "SyntaxError",
     "evalue": "invalid syntax (1163001807.py, line 1)",
     "output_type": "error",
     "traceback": [
      "\u001b[0;36m  Cell \u001b[0;32mIn[10], line 1\u001b[0;36m\u001b[0m\n\u001b[0;31m    echo 'Homo homini lupus' >> sed.txt\u001b[0m\n\u001b[0m         ^\u001b[0m\n\u001b[0;31mSyntaxError\u001b[0m\u001b[0;31m:\u001b[0m invalid syntax\n"
     ]
    }
   ],
   "source": [
    "echo 'Homo homini lupus' >> sed.txt"
   ]
  },
  {
   "cell_type": "code",
   "execution_count": null,
   "id": "07558760",
   "metadata": {},
   "outputs": [],
   "source": [
    "Visualiza las últimas 3 líneas del archivo sed.txt dentro de la carpeta lorem-copy. Deberías ver ahora Homo homini lupus.."
   ]
  },
  {
   "cell_type": "code",
   "execution_count": null,
   "id": "1a6d05da",
   "metadata": {},
   "outputs": [],
   "source": [
    "Encuentra al usuario activo en el sistema."
   ]
  },
  {
   "cell_type": "code",
   "execution_count": null,
   "id": "f1ba221e",
   "metadata": {},
   "outputs": [],
   "source": [
    "Comando who"
   ]
  },
  {
   "cell_type": "code",
   "execution_count": null,
   "id": "f55a0308",
   "metadata": {},
   "outputs": [],
   "source": [
    "Encuentra dónde estás en tu sistema de ficheros."
   ]
  },
  {
   "cell_type": "code",
   "execution_count": null,
   "id": "2d3bbe67",
   "metadata": {},
   "outputs": [],
   "source": [
    "Comando pwd"
   ]
  },
  {
   "cell_type": "code",
   "execution_count": null,
   "id": "ce7d89fc",
   "metadata": {},
   "outputs": [],
   "source": [
    "Lista los archivos que terminan por .txt en la carpeta lorem."
   ]
  },
  {
   "cell_type": "code",
   "execution_count": null,
   "id": "f5d0cf19",
   "metadata": {},
   "outputs": [],
   "source": [
    "ls *.txt"
   ]
  },
  {
   "cell_type": "code",
   "execution_count": null,
   "id": "6e3175ed",
   "metadata": {},
   "outputs": [],
   "source": [
    "Cuenta el número de líneas que tiene el archivo sed.txt dentro de la carpeta lorem."
   ]
  },
  {
   "cell_type": "code",
   "execution_count": null,
   "id": "4411bcf6",
   "metadata": {},
   "outputs": [],
   "source": [
    "wc -l sed.txt"
   ]
  },
  {
   "cell_type": "code",
   "execution_count": null,
   "id": "117d920c",
   "metadata": {},
   "outputs": [],
   "source": [
    "Cuenta el número de archivos que empiezan por lorem que están en este directorio y en directorios internos."
   ]
  },
  {
   "cell_type": "code",
   "execution_count": null,
   "id": "8208aa05",
   "metadata": {},
   "outputs": [],
   "source": [
    "ls -dq *lorem* | wc -l"
   ]
  },
  {
   "cell_type": "code",
   "execution_count": null,
   "id": "eaab7862",
   "metadata": {},
   "outputs": [],
   "source": [
    "Cuenta el número de apariciones del string et en at.txt dentro de la carpeta lorem."
   ]
  },
  {
   "cell_type": "code",
   "execution_count": null,
   "id": "ca5a3cb4",
   "metadata": {},
   "outputs": [],
   "source": [
    "grep -o \"et\" at.txt | wc -l"
   ]
  }
 ],
 "metadata": {
  "kernelspec": {
   "display_name": "Python 3 (ipykernel)",
   "language": "python",
   "name": "python3"
  },
  "language_info": {
   "codemirror_mode": {
    "name": "ipython",
    "version": 3
   },
   "file_extension": ".py",
   "mimetype": "text/x-python",
   "name": "python",
   "nbconvert_exporter": "python",
   "pygments_lexer": "ipython3",
   "version": "3.11.2"
  }
 },
 "nbformat": 4,
 "nbformat_minor": 5
}
